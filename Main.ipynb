{
 "cells": [
  {
   "cell_type": "code",
   "execution_count": null,
   "metadata": {},
   "outputs": [],
   "source": [
    "# Prevents me from having to reload kernel in VS Code, might not be needed to run in docker/anaconda\n",
    "from IPython import get_ipython\n",
    "ip = get_ipython()\n",
    "ip.magic(\"reload_ext autoreload\")  # these will enable module autoreloading\n",
    "ip.magic(\"autoreload 2\")"
   ]
  },
  {
   "cell_type": "code",
   "execution_count": null,
   "metadata": {},
   "outputs": [],
   "source": [
    "import pandas as pd\n",
    "import numpy as np\n",
    "import matplotlib.pyplot as plt\n",
    "from src import pre_process\n",
    "from src import constants\n",
    "from src import process"
   ]
  },
  {
   "cell_type": "code",
   "execution_count": null,
   "metadata": {},
   "outputs": [],
   "source": [
    "df = pre_process.getTrain()"
   ]
  },
  {
   "cell_type": "code",
   "execution_count": null,
   "metadata": {},
   "outputs": [],
   "source": [
    "smoothed_df = pre_process.pre_process_data_smooth(df, 2)\n",
    "normalized_df = pre_process.normalize_data(df)"
   ]
  },
  {
   "cell_type": "code",
   "execution_count": null,
   "metadata": {},
   "outputs": [],
   "source": [
    "pre_process.plot_data(normalized_df, x_axis='Loan Status')"
   ]
  },
  {
   "cell_type": "code",
   "execution_count": null,
   "metadata": {},
   "outputs": [],
   "source": [
    "#pre_process.getParallelGraph(df.loc[df['Loan Status'] == False])"
   ]
  },
  {
   "cell_type": "code",
   "execution_count": null,
   "metadata": {},
   "outputs": [],
   "source": [
    "#pre_process.getParallelGraph(df.loc[df['Loan Status'] == True])"
   ]
  },
  {
   "cell_type": "code",
   "execution_count": null,
   "metadata": {},
   "outputs": [],
   "source": [
    "train, test = process.getTrainAndTestSet(df)\n",
    "train_normalized, test_normalized = process.getTrainAndTestSet(normalized_df)\n",
    "train_smoothed, test_smoothed = process.getTrainAndTestSet(smoothed_df)\n",
    "train_smoothed_normalized, test_smoothed_normalized = process.getTrainAndTestSet(pre_process.normalize_data(smoothed_df))"
   ]
  },
  {
   "cell_type": "code",
   "execution_count": null,
   "metadata": {},
   "outputs": [],
   "source": [
    "process.testLogisticRegression(train, test)\n",
    "\n",
    "process.testLogisticRegression(train_normalized, test_normalized)\n",
    "\n",
    "#process.testLogisticRegression(train_smoothed, test_smoothed)\n",
    "\n",
    "#process.testLogisticRegression(train_smoothed_normalized, test_smoothed_normalized)"
   ]
  },
  {
   "cell_type": "code",
   "execution_count": null,
   "metadata": {},
   "outputs": [],
   "source": [
    "process.testKNeighborsClassifier(train, test)\n",
    "\n",
    "process.testKNeighborsClassifier(train_normalized, test_normalized)\n",
    "\n",
    "#process.testKNeighborsClassifier(train_smoothed, test_smoothed) # Gives best accuracy and doubles f-score\n",
    "\n",
    "#process.testKNeighborsClassifier(train_smoothed_normalized, test_smoothed_normalized)"
   ]
  },
  {
   "cell_type": "code",
   "execution_count": null,
   "metadata": {},
   "outputs": [],
   "source": [
    "process.testRandomForest(train, test)\n",
    "\n",
    "#process.testRandomForest(train_normalized, test_normalized)\n",
    "\n",
    "#process.testRandomForest(train_smoothed, test_smoothed)\n",
    "\n",
    "#process.testRandomForest(train_smoothed_normalized, test_smoothed_normalized)"
   ]
  },
  {
   "cell_type": "code",
   "execution_count": null,
   "metadata": {},
   "outputs": [],
   "source": [
    "#takes like 10 mins to run\n",
    "process.runStratifiedModel(df, \"rfc\")"
   ]
  },
  {
   "cell_type": "code",
   "execution_count": null,
   "metadata": {},
   "outputs": [],
   "source": [
    "process.runStratifiedModel(df, \"knn\")"
   ]
  },
  {
   "cell_type": "code",
   "execution_count": null,
   "metadata": {},
   "outputs": [],
   "source": [
    "process.runStratifiedModel(df, \"lr\")"
   ]
  },
  {
   "cell_type": "code",
   "execution_count": null,
   "metadata": {},
   "outputs": [],
   "source": [
    "#takes like 10 mins to run\n",
    "process.runStratifiedModel(df, \"rfc\", \"nt\")"
   ]
  },
  {
   "cell_type": "code",
   "execution_count": null,
   "metadata": {},
   "outputs": [],
   "source": [
    "process.runStratifiedModel(df, \"knn\", \"nt\")"
   ]
  },
  {
   "cell_type": "code",
   "execution_count": null,
   "metadata": {},
   "outputs": [],
   "source": [
    "process.runStratifiedModel(df, \"lr\", \"nt\")"
   ]
  },
  {
   "cell_type": "code",
   "execution_count": null,
   "metadata": {},
   "outputs": [],
   "source": []
  }
 ],
 "metadata": {
  "kernelspec": {
   "display_name": "Python 3 (ipykernel)",
   "language": "python",
   "name": "python3"
  },
  "language_info": {
   "codemirror_mode": {
    "name": "ipython",
    "version": 3
   },
   "file_extension": ".py",
   "mimetype": "text/x-python",
   "name": "python",
   "nbconvert_exporter": "python",
   "pygments_lexer": "ipython3",
   "version": "3.10.6"
  }
 },
 "nbformat": 4,
 "nbformat_minor": 2
}
