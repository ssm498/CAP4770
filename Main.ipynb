{
 "cells": [
  {
   "cell_type": "code",
   "execution_count": 1,
   "metadata": {},
   "outputs": [],
   "source": [
    "# Prevents me from having to reload kernel in VS Code, might not be needed to run in docker/anaconda\n",
    "from IPython import get_ipython\n",
    "ip = get_ipython()\n",
    "ip.magic(\"reload_ext autoreload\")  # these will enable module autoreloading\n",
    "ip.magic(\"autoreload 2\")"
   ]
  },
  {
   "cell_type": "code",
   "execution_count": 79,
   "metadata": {},
   "outputs": [],
   "source": [
    "import pandas as pd\n",
    "import numpy as np\n",
    "import matplotlib.pyplot as plt\n",
    "from src import pre_process\n",
    "from src import constants\n"
   ]
  },
  {
   "cell_type": "code",
   "execution_count": 82,
   "metadata": {},
   "outputs": [
    {
     "data": {
      "text/html": [
       "<div>\n",
       "<style scoped>\n",
       "    .dataframe tbody tr th:only-of-type {\n",
       "        vertical-align: middle;\n",
       "    }\n",
       "\n",
       "    .dataframe tbody tr th {\n",
       "        vertical-align: top;\n",
       "    }\n",
       "\n",
       "    .dataframe thead th {\n",
       "        text-align: right;\n",
       "    }\n",
       "</style>\n",
       "<table border=\"1\" class=\"dataframe\">\n",
       "  <thead>\n",
       "    <tr style=\"text-align: right;\">\n",
       "      <th></th>\n",
       "      <th>ID</th>\n",
       "      <th>Loan Amount</th>\n",
       "      <th>Funded Amount</th>\n",
       "      <th>Funded Amount Investor</th>\n",
       "      <th>Term</th>\n",
       "      <th>Batch Enrolled</th>\n",
       "      <th>Interest Rate</th>\n",
       "      <th>Grade</th>\n",
       "      <th>Sub Grade</th>\n",
       "      <th>Employment Duration</th>\n",
       "      <th>...</th>\n",
       "      <th>Recoveries</th>\n",
       "      <th>Collection Recovery Fee</th>\n",
       "      <th>Collection 12 months Medical</th>\n",
       "      <th>Application Type</th>\n",
       "      <th>Last week Pay</th>\n",
       "      <th>Accounts Delinquent</th>\n",
       "      <th>Total Collection Amount</th>\n",
       "      <th>Total Current Balance</th>\n",
       "      <th>Total Revolving Credit Limit</th>\n",
       "      <th>Loan Status</th>\n",
       "    </tr>\n",
       "  </thead>\n",
       "  <tbody>\n",
       "    <tr>\n",
       "      <th>0</th>\n",
       "      <td>65087372</td>\n",
       "      <td>10000.0</td>\n",
       "      <td>32236.0</td>\n",
       "      <td>12329.36286</td>\n",
       "      <td>59</td>\n",
       "      <td>BAT2522922</td>\n",
       "      <td>11.135007</td>\n",
       "      <td>B</td>\n",
       "      <td>C4</td>\n",
       "      <td>MORTGAGE</td>\n",
       "      <td>...</td>\n",
       "      <td>2.498291</td>\n",
       "      <td>0.793724</td>\n",
       "      <td>0</td>\n",
       "      <td>INDIVIDUAL</td>\n",
       "      <td>49</td>\n",
       "      <td>0</td>\n",
       "      <td>31.0</td>\n",
       "      <td>311301.0</td>\n",
       "      <td>6619</td>\n",
       "      <td>False</td>\n",
       "    </tr>\n",
       "    <tr>\n",
       "      <th>1</th>\n",
       "      <td>1450153</td>\n",
       "      <td>3609.0</td>\n",
       "      <td>11940.0</td>\n",
       "      <td>12191.99692</td>\n",
       "      <td>59</td>\n",
       "      <td>BAT1586599</td>\n",
       "      <td>12.237563</td>\n",
       "      <td>C</td>\n",
       "      <td>D3</td>\n",
       "      <td>RENT</td>\n",
       "      <td>...</td>\n",
       "      <td>2.377215</td>\n",
       "      <td>0.974821</td>\n",
       "      <td>0</td>\n",
       "      <td>INDIVIDUAL</td>\n",
       "      <td>109</td>\n",
       "      <td>0</td>\n",
       "      <td>53.0</td>\n",
       "      <td>182610.0</td>\n",
       "      <td>20885</td>\n",
       "      <td>False</td>\n",
       "    </tr>\n",
       "    <tr>\n",
       "      <th>2</th>\n",
       "      <td>1969101</td>\n",
       "      <td>28276.0</td>\n",
       "      <td>9311.0</td>\n",
       "      <td>21603.22455</td>\n",
       "      <td>59</td>\n",
       "      <td>BAT2136391</td>\n",
       "      <td>12.545884</td>\n",
       "      <td>F</td>\n",
       "      <td>D4</td>\n",
       "      <td>MORTGAGE</td>\n",
       "      <td>...</td>\n",
       "      <td>4.316277</td>\n",
       "      <td>1.020075</td>\n",
       "      <td>0</td>\n",
       "      <td>INDIVIDUAL</td>\n",
       "      <td>66</td>\n",
       "      <td>0</td>\n",
       "      <td>34.0</td>\n",
       "      <td>89801.0</td>\n",
       "      <td>26155</td>\n",
       "      <td>False</td>\n",
       "    </tr>\n",
       "    <tr>\n",
       "      <th>3</th>\n",
       "      <td>6651430</td>\n",
       "      <td>11170.0</td>\n",
       "      <td>6954.0</td>\n",
       "      <td>17877.15585</td>\n",
       "      <td>59</td>\n",
       "      <td>BAT2428731</td>\n",
       "      <td>16.731201</td>\n",
       "      <td>C</td>\n",
       "      <td>C3</td>\n",
       "      <td>MORTGAGE</td>\n",
       "      <td>...</td>\n",
       "      <td>0.107020</td>\n",
       "      <td>0.749971</td>\n",
       "      <td>0</td>\n",
       "      <td>INDIVIDUAL</td>\n",
       "      <td>39</td>\n",
       "      <td>0</td>\n",
       "      <td>40.0</td>\n",
       "      <td>9189.0</td>\n",
       "      <td>60214</td>\n",
       "      <td>False</td>\n",
       "    </tr>\n",
       "    <tr>\n",
       "      <th>4</th>\n",
       "      <td>14354669</td>\n",
       "      <td>16890.0</td>\n",
       "      <td>13226.0</td>\n",
       "      <td>13539.92667</td>\n",
       "      <td>59</td>\n",
       "      <td>BAT5341619</td>\n",
       "      <td>15.008300</td>\n",
       "      <td>C</td>\n",
       "      <td>D4</td>\n",
       "      <td>MORTGAGE</td>\n",
       "      <td>...</td>\n",
       "      <td>1294.818751</td>\n",
       "      <td>0.368953</td>\n",
       "      <td>0</td>\n",
       "      <td>INDIVIDUAL</td>\n",
       "      <td>18</td>\n",
       "      <td>0</td>\n",
       "      <td>430.0</td>\n",
       "      <td>126029.0</td>\n",
       "      <td>22579</td>\n",
       "      <td>False</td>\n",
       "    </tr>\n",
       "  </tbody>\n",
       "</table>\n",
       "<p>5 rows × 35 columns</p>\n",
       "</div>"
      ],
      "text/plain": [
       "         ID  Loan Amount  Funded Amount  Funded Amount Investor  Term  \\\n",
       "0  65087372      10000.0        32236.0             12329.36286    59   \n",
       "1   1450153       3609.0        11940.0             12191.99692    59   \n",
       "2   1969101      28276.0         9311.0             21603.22455    59   \n",
       "3   6651430      11170.0         6954.0             17877.15585    59   \n",
       "4  14354669      16890.0        13226.0             13539.92667    59   \n",
       "\n",
       "  Batch Enrolled  Interest Rate Grade Sub Grade Employment Duration  ...  \\\n",
       "0     BAT2522922      11.135007     B        C4            MORTGAGE  ...   \n",
       "1     BAT1586599      12.237563     C        D3                RENT  ...   \n",
       "2     BAT2136391      12.545884     F        D4            MORTGAGE  ...   \n",
       "3     BAT2428731      16.731201     C        C3            MORTGAGE  ...   \n",
       "4     BAT5341619      15.008300     C        D4            MORTGAGE  ...   \n",
       "\n",
       "    Recoveries Collection Recovery Fee Collection 12 months Medical  \\\n",
       "0     2.498291                0.793724                            0   \n",
       "1     2.377215                0.974821                            0   \n",
       "2     4.316277                1.020075                            0   \n",
       "3     0.107020                0.749971                            0   \n",
       "4  1294.818751                0.368953                            0   \n",
       "\n",
       "  Application Type  Last week Pay  Accounts Delinquent  \\\n",
       "0       INDIVIDUAL             49                    0   \n",
       "1       INDIVIDUAL            109                    0   \n",
       "2       INDIVIDUAL             66                    0   \n",
       "3       INDIVIDUAL             39                    0   \n",
       "4       INDIVIDUAL             18                    0   \n",
       "\n",
       "   Total Collection Amount  Total Current Balance  \\\n",
       "0                     31.0               311301.0   \n",
       "1                     53.0               182610.0   \n",
       "2                     34.0                89801.0   \n",
       "3                     40.0                 9189.0   \n",
       "4                    430.0               126029.0   \n",
       "\n",
       "   Total Revolving Credit Limit  Loan Status  \n",
       "0                          6619        False  \n",
       "1                         20885        False  \n",
       "2                         26155        False  \n",
       "3                         60214        False  \n",
       "4                         22579        False  \n",
       "\n",
       "[5 rows x 35 columns]"
      ]
     },
     "execution_count": 82,
     "metadata": {},
     "output_type": "execute_result"
    }
   ],
   "source": [
    "train = pre_process.getTrain()\n",
    "train.head()\n"
   ]
  },
  {
   "cell_type": "code",
   "execution_count": null,
   "metadata": {},
   "outputs": [],
   "source": [
    "# Visualizing only\n",
    "pre_process.plot_data(train, x_axis='Loan Status')"
   ]
  },
  {
   "cell_type": "code",
   "execution_count": null,
   "metadata": {},
   "outputs": [],
   "source": [
    "# Visualizing only\n",
    "pre_process.getParallelGraph(train)"
   ]
  },
  {
   "cell_type": "code",
   "execution_count": 84,
   "metadata": {},
   "outputs": [
    {
     "name": "stdout",
     "output_type": "stream",
     "text": [
      "No missing vlaues found\n"
     ]
    }
   ],
   "source": [
    "pre_process.pre_process_data(train)"
   ]
  },
  {
   "cell_type": "code",
   "execution_count": null,
   "metadata": {},
   "outputs": [],
   "source": [
    "# Null values\n",
    "train.isna().sum()"
   ]
  },
  {
   "cell_type": "code",
   "execution_count": null,
   "metadata": {},
   "outputs": [],
   "source": [
    "#Missing Values\n",
    "pre_process.findMissingValues(train)"
   ]
  },
  {
   "cell_type": "code",
   "execution_count": null,
   "metadata": {
    "scrolled": true
   },
   "outputs": [],
   "source": [
    "outlier_indexes = pre_process.getOutlierIndexByZScore(train, constants.columnDataTypes,5)\n",
    "with open('./data/processed/outlier_indexes.txt', 'w') as f:\n",
    "    print(outlier_indexes, file=f)"
   ]
  },
  {
   "cell_type": "code",
   "execution_count": null,
   "metadata": {},
   "outputs": [],
   "source": [
    "pre_process.plot_data(train)"
   ]
  },
  {
   "cell_type": "code",
   "execution_count": null,
   "metadata": {},
   "outputs": [],
   "source": [
    "pre_process.getParallelGraph(train.loc[train['Loan Status'] == False])"
   ]
  },
  {
   "cell_type": "code",
   "execution_count": null,
   "metadata": {},
   "outputs": [],
   "source": [
    "pre_process.getParallelGraph(train.loc[train['Loan Status'] == True])"
   ]
  },
  {
   "cell_type": "code",
   "execution_count": null,
   "metadata": {},
   "outputs": [],
   "source": [
    "train, test = process.getTrainAndTestSet(train)"
   ]
  },
  {
   "cell_type": "code",
   "execution_count": null,
   "metadata": {},
   "outputs": [],
   "source": [
    "process.testRandomForest(train, test)"
   ]
  },
  {
   "cell_type": "code",
   "execution_count": null,
   "metadata": {},
   "outputs": [],
   "source": []
  }
 ],
 "metadata": {
  "kernelspec": {
   "display_name": "Python 3",
   "language": "python",
   "name": "python3"
  },
  "language_info": {
   "codemirror_mode": {
    "name": "ipython",
    "version": 3
   },
   "file_extension": ".py",
   "mimetype": "text/x-python",
   "name": "python",
   "nbconvert_exporter": "python",
   "pygments_lexer": "ipython3",
   "version": "3.8.5"
  }
 },
 "nbformat": 4,
 "nbformat_minor": 2
}
